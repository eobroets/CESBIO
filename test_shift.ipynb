{
 "cells": [
  {
   "cell_type": "code",
   "execution_count": 1,
   "metadata": {},
   "outputs": [],
   "source": [
    "import matplotlib.pyplot as plt\n",
    "import numpy as np\n",
    "import scipy.signal as ss\n",
    "from osgeo import gdal\n",
    "from lib import temp_lib\n",
    "from scipy import fftpack\n",
    "import numpy.linalg as npl\n",
    "Tifpath = 'StageGMM4_2020_SA4CD/Data/Paracou_125MHz/geo5Md3iHV_t4-7_NCI7_lkLcl3-5-t7_lkRgn9-15.tif'\n",
    "Tifpath1 = 'StageGMM4_2020_SA4CD/Data/Paracou_125MHz/geo5Md3N0-iHV_t1_NCI7_lkLcl3-5-t7_lkRgn9-15.tif'\n",
    "gdal.UseExceptions()\n",
    "\n",
    "ds_normal = gdal.Open(Tifpath1)\n",
    "ds = gdal.Open(Tifpath)\n",
    "ds_normal1 = np.array(ds_normal.GetRasterBand(1).ReadAsArray())\n",
    "ds_band1 = np.array(ds.GetRasterBand(1).ReadAsArray())\n",
    "ds_band3 = np.array(ds.GetRasterBand(3).ReadAsArray())\n",
    "\n",
    "\n",
    "ds_normal11 = ds_normal1[10:-10, 20:-50]\n",
    "ds_norm1 = ds_band1[10: -10, 20:-50]/ds_normal11\n",
    "ds_norm3 = ds_band3[10: -10, 20:-50]/ds_normal11\n",
    "from how2spectro_Morlet2 import morlet2\n",
    "from how2spectro_Morlet2 import cwt"
   ]
  },
  {
   "cell_type": "code",
   "execution_count": 2,
   "metadata": {},
   "outputs": [],
   "source": [
    "#plt.plot(morlet2(250,6))"
   ]
  },
  {
   "cell_type": "code",
   "execution_count": 3,
   "metadata": {},
   "outputs": [
    {
     "name": "stdout",
     "output_type": "stream",
     "text": [
      "0.0067037446\n"
     ]
    }
   ],
   "source": [
    "im = temp_lib(ds_band1)\n",
    "print(np.var(im._ds_band))"
   ]
  },
  {
   "cell_type": "code",
   "execution_count": 4,
   "metadata": {},
   "outputs": [
    {
     "name": "stdout",
     "output_type": "stream",
     "text": [
      "0.0014730471\n"
     ]
    }
   ],
   "source": [
    "im1 = temp_lib(ds_norm1)\n",
    "print(np.var(im1._ds_band))\n",
    "im3 = temp_lib(ds_norm3)"
   ]
  },
  {
   "cell_type": "code",
   "execution_count": 5,
   "metadata": {
    "scrolled": false
   },
   "outputs": [
    {
     "ename": "AttributeError",
     "evalue": "'lib2' object has no attribute 'decrease_resolution_v2'",
     "output_type": "error",
     "traceback": [
      "\u001b[0;31m---------------------------------------------------------------------------\u001b[0m",
      "\u001b[0;31mAttributeError\u001b[0m                            Traceback (most recent call last)",
      "\u001b[0;32m<ipython-input-5-e49e8110aef3>\u001b[0m in \u001b[0;36m<module>\u001b[0;34m\u001b[0m\n\u001b[1;32m     15\u001b[0m \u001b[0mshifted3\u001b[0m \u001b[0;34m=\u001b[0m \u001b[0mim3\u001b[0m\u001b[0;34m.\u001b[0m\u001b[0msimulate_shift\u001b[0m\u001b[0;34m(\u001b[0m\u001b[0mshift\u001b[0m\u001b[0;34m)\u001b[0m\u001b[0;34m\u001b[0m\u001b[0;34m\u001b[0m\u001b[0m\n\u001b[1;32m     16\u001b[0m \u001b[0mdeforst\u001b[0m \u001b[0;34m=\u001b[0m \u001b[0mim1\u001b[0m\u001b[0;34m.\u001b[0m\u001b[0msimulate_deforestation_v2\u001b[0m\u001b[0;34m(\u001b[0m\u001b[0mlocation\u001b[0m\u001b[0;34m,\u001b[0m \u001b[0mmu\u001b[0m \u001b[0;34m=\u001b[0m \u001b[0;36m0.01\u001b[0m\u001b[0;34m,\u001b[0m \u001b[0msigma\u001b[0m \u001b[0;34m=\u001b[0m \u001b[0msig\u001b[0m \u001b[0;34m/\u001b[0m \u001b[0;36m5\u001b[0m\u001b[0;34m)\u001b[0m\u001b[0;34m\u001b[0m\u001b[0;34m\u001b[0m\u001b[0m\n\u001b[0;32m---> 17\u001b[0;31m \u001b[0mdeforst\u001b[0m \u001b[0;34m=\u001b[0m \u001b[0mim1\u001b[0m\u001b[0;34m.\u001b[0m\u001b[0mdecrease_resolution_v2\u001b[0m\u001b[0;34m(\u001b[0m\u001b[0mdeforst\u001b[0m\u001b[0;34m,\u001b[0m\u001b[0mn\u001b[0m \u001b[0;34m=\u001b[0m \u001b[0;36m15\u001b[0m\u001b[0;34m)\u001b[0m\u001b[0;34m\u001b[0m\u001b[0;34m\u001b[0m\u001b[0m\n\u001b[0m\u001b[1;32m     18\u001b[0m \u001b[0mim1\u001b[0m\u001b[0;34m.\u001b[0m\u001b[0mdecrease_resolution\u001b[0m\u001b[0;34m(\u001b[0m\u001b[0;36m15\u001b[0m\u001b[0;34m)\u001b[0m\u001b[0;34m\u001b[0m\u001b[0;34m\u001b[0m\u001b[0m\n\u001b[1;32m     19\u001b[0m \u001b[0mshifted1\u001b[0m \u001b[0;34m=\u001b[0m \u001b[0mim1\u001b[0m\u001b[0;34m.\u001b[0m\u001b[0msimulate_shift\u001b[0m\u001b[0;34m(\u001b[0m\u001b[0mshift\u001b[0m\u001b[0;34m)\u001b[0m\u001b[0;34m\u001b[0m\u001b[0;34m\u001b[0m\u001b[0m\n",
      "\u001b[0;31mAttributeError\u001b[0m: 'lib2' object has no attribute 'decrease_resolution_v2'"
     ]
    }
   ],
   "source": [
    "im1.extract_band()\n",
    "im1._multiplier = 1\n",
    "\n",
    "im1.extract_band([500,520])\n",
    "sig = np.var(im1._ds_band)\n",
    "im3.extract_band()\n",
    "im3._multiplier = 1\n",
    "#im1.extract_band([500,520])\n",
    "taille_pixel = im1._s # 5\n",
    "n_pixel = 20\n",
    "x = 3000 # 5400, 5600\n",
    "location = [x, int(taille_pixel * n_pixel + x)]\n",
    "shift = 500\n",
    "w = 6\n",
    "shifted3 = im3.simulate_shift(shift)\n",
    "deforst = im1.simulate_deforestation_v2(location, mu = 0.01, sigma = sig / 5)\n",
    "deforst = im1.decrease_resolution_v2(deforst,n = 15)\n",
    "im1.decrease_resolution(15)\n",
    "shifted1 = im1.simulate_shift(shift)\n",
    "im1._ds_band = shifted1\n",
    "im1.plot_sections(deforst)\n",
    "diff = np.abs((im1._ds_band - deforst))\n",
    "#im1.plot_diff(diff)\n",
    "cwt_diff = im1.cwt_v2(diff, w)\n",
    "#im1.plot_cwt(cwt_diff)\n",
    "cwt1 = im1.cwt_v2(im1._ds_band, w)\n",
    "cwt2 = im1.cwt_v2(deforst, w)\n",
    "tmp = np.abs(cwt1-cwt2)\n",
    "#im1.plot_cwt(cwt1*np.conj(cwt2))\n",
    "seuil = 0.08\n",
    "diff[diff<seuil] = 0\n",
    "im1.plot_diff(diff)\n",
    "#tmp = np.abs(cwt_diff)\n",
    "tmp[tmp<seuil] = 0\n",
    "im1.plot_cwt(tmp)"
   ]
  },
  {
   "cell_type": "code",
   "execution_count": null,
   "metadata": {
    "scrolled": false
   },
   "outputs": [],
   "source": [
    "im1 = temp_lib(ds_band1)\n",
    "im3 = temp_lib(ds_band3)\n",
    "\n",
    "#im1.decrease_resolution(n = 30)\n",
    "#im3.decrease_resolution(n = 30)\n",
    "\n",
    "#im1._ds_band = im1.simulate_shift(s = 20)\n",
    "im3._ds_band = im3.simulate_deforestation_v2([4000,4300], mu = 0.02, sigma = np.var(im1._ds_band)/15)\n",
    "\n",
    "im1.spectrogram(n_win = 52, plot = False)\n",
    "im3.spectrogram(n_win = 52, plot = False)\n",
    "im1.plot_section(im3)\n",
    "im1.cross_spectro(im3, prod = True)\n",
    "\n",
    "im1.cross_spectro(im3, diff = True)\n",
    "\n",
    "\n",
    "w = 2.5\n",
    "cwt1 = im1.cwt_v2(im1._ds_band, w)\n",
    "cwt2 = im3.cwt_v2(im3._ds_band, w)\n",
    "dcwt = np.abs(cwt1-cwt2)\n",
    "pcwt = np.abs(cwt1*np.conj(cwt2))\n",
    "im1.plot_cwt(dcwt)\n",
    "im1.plot_cwt(pcwt)\n",
    "\n",
    "dz = np.abs(im1._spectro_Z - im3._spectro_Z)\n",
    "seuil = 0.4"
   ]
  },
  {
   "cell_type": "code",
   "execution_count": null,
   "metadata": {},
   "outputs": [],
   "source": []
  }
 ],
 "metadata": {
  "kernelspec": {
   "display_name": "Python 3",
   "language": "python",
   "name": "python3"
  },
  "language_info": {
   "codemirror_mode": {
    "name": "ipython",
    "version": 3
   },
   "file_extension": ".py",
   "mimetype": "text/x-python",
   "name": "python",
   "nbconvert_exporter": "python",
   "pygments_lexer": "ipython3",
   "version": "3.8.1"
  }
 },
 "nbformat": 4,
 "nbformat_minor": 4
}
