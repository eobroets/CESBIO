{
 "cells": [
  {
   "cell_type": "code",
   "execution_count": null,
   "metadata": {},
   "outputs": [],
   "source": [
    "import matplotlib.pyplot as plt\n",
    "import numpy as np\n",
    "import scipy.signal as ss\n",
    "Tifpath = 'StageGMM4_2020_SA4CD/Data/Paracou_125MHz/geo5Md3iHV_t4-7_NCI7_lkLcl3-5-t7_lkRgn9-15.tif'\n",
    "\n",
    "\n",
    "from osgeo import gdal\n",
    "from scipy import fftpack\n",
    "import numpy.linalg as npl\n",
    "\n",
    "gdal.UseExceptions()\n",
    "ds = gdal.Open(Tifpath)\n",
    "ds_band1 = np.array(ds.GetRasterBand(1).ReadAsArray())\n",
    "ds_band3 = np.array(ds.GetRasterBand(3).ReadAsArray())\n",
    "\n",
    "ds_target1 = np.zeros(len(ds_band1[1000,:]))\n",
    "ds_target3 = np.zeros(len(ds_band3[1000,:]))\n",
    "\n",
    "Ny,Nx = np.shape(ds_band3)\n",
    "x = np.linspace(0,Nx*5,Nx)\n",
    "y = np.linspace(0,Ny*5,Ny)"
   ]
  }
 ],
 "metadata": {
  "kernelspec": {
   "display_name": "Python 3",
   "language": "python",
   "name": "python3"
  },
  "language_info": {
   "codemirror_mode": {
    "name": "ipython",
    "version": 3
   },
   "file_extension": ".py",
   "mimetype": "text/x-python",
   "name": "python",
   "nbconvert_exporter": "python",
   "pygments_lexer": "ipython3",
   "version": "3.7.4"
  }
 },
 "nbformat": 4,
 "nbformat_minor": 2
}
